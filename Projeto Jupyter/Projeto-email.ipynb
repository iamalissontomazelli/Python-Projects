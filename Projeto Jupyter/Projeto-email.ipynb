{
 "cells": [
  {
   "cell_type": "code",
   "execution_count": 42,
   "id": "8340f584",
   "metadata": {},
   "outputs": [],
   "source": [
    "import pyautogui as po\n",
    "import pyperclip\n",
    "import time \n",
    "\n",
    "po.PAUSE = 2\n",
    "\n",
    "\n",
    "po.press(\"win\")\n",
    "po.write(\"brave\")\n",
    "po.press(\"enter\")\n",
    "po.write(\"https://mail.google.com/mail/u/0/#inbox\")\n",
    "po.press(\"enter\")\n",
    "po.click(x=34, y=173, clicks=1)\n",
    "pyperclip.copy(\"devtomazelli@outlook.com\")\n",
    "po.hotkey(\"ctrl\",\"v\")\n",
    "po.press(\"tab\")\n",
    "pyperclip.copy(\"Automação em Python\")\n",
    "po.hotkey(\"ctrl\", \"v\")\n",
    "po.press(\"tab\")\n",
    "texto = \"\"\"\n",
    "Texto elaborado para teste. \n",
    "\"\"\"\n",
    "po.write(texto)\n",
    "po.click(x=1274, y=1001, clicks=1)\n",
    "\n"
   ]
  },
  {
   "cell_type": "code",
   "execution_count": 43,
   "id": "94af9c9f",
   "metadata": {},
   "outputs": [],
   "source": [
    "# Passo 1 = abrir email\n",
    "# passo 2 = escrever o destinario \n",
    "# passo 3 = escrever assunto \n",
    "# Passo 4 = escrever o texto do email \n",
    "# Passo 5 enviar email\n",
    "\n"
   ]
  }
 ],
 "metadata": {
  "kernelspec": {
   "display_name": "Python 3 (ipykernel)",
   "language": "python",
   "name": "python3"
  },
  "language_info": {
   "codemirror_mode": {
    "name": "ipython",
    "version": 3
   },
   "file_extension": ".py",
   "mimetype": "text/x-python",
   "name": "python",
   "nbconvert_exporter": "python",
   "pygments_lexer": "ipython3",
   "version": "3.9.13"
  }
 },
 "nbformat": 4,
 "nbformat_minor": 5
}
